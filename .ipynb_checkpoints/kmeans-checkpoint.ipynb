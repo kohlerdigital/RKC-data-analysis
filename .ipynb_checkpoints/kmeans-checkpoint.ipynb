{
 "cells": [
  {
   "cell_type": "markdown",
   "metadata": {},
   "source": [
    "# Une table des matieres, c'est pour les noobs\n",
    "\n",
    "[Decouvrir ce que glaps fabrique](#glaps) <br>\n",
    "[Des questions de clusters](#questions_clusters) <br>\n",
    "[Une histoire de filtre](#filter_error)\n",
    "\n",
    "\n",
    "***"
   ]
  },
  {
   "cell_type": "code",
   "execution_count": null,
   "metadata": {},
   "outputs": [],
   "source": [
    "import matplotlib.pyplot as plt\n",
    "import pandas as pd\n",
    "import numpy as np"
   ]
  },
  {
   "cell_type": "code",
   "execution_count": 8,
   "metadata": {},
   "outputs": [],
   "source": [
    "import os\n",
    "#os.chdir(\"C:/Users/Pierre/Documents/truc de glaps k means\")"
   ]
  },
  {
   "cell_type": "markdown",
   "metadata": {},
   "source": [
    "j'importe les donnees"
   ]
  },
  {
   "cell_type": "code",
   "execution_count": 81,
   "metadata": {},
   "outputs": [
    {
     "ename": "SyntaxError",
     "evalue": "invalid syntax (<ipython-input-81-4aeb25d00ac2>, line 4)",
     "output_type": "error",
     "traceback": [
      "\u001b[1;36m  File \u001b[1;32m\"<ipython-input-81-4aeb25d00ac2>\"\u001b[1;36m, line \u001b[1;32m4\u001b[0m\n\u001b[1;33m    <a id='section_id'></a>\u001b[0m\n\u001b[1;37m    ^\u001b[0m\n\u001b[1;31mSyntaxError\u001b[0m\u001b[1;31m:\u001b[0m invalid syntax\n"
     ]
    }
   ],
   "source": [
    "f = open(\"raw-data.csv\", \"r\")\n",
    "T = f.readlines()\n",
    "f.close()\n",
    "\n",
    "print(T[0].split(\",\")[4])\n",
    "X = [int(t.split(\",\")[4]) for t in T[1:]]\n",
    "print(X)"
   ]
  },
  {
   "cell_type": "markdown",
   "metadata": {},
   "source": [
    "je les affiche, note l'echelle semi log"
   ]
  },
  {
   "cell_type": "code",
   "execution_count": 10,
   "metadata": {},
   "outputs": [
    {
     "name": "stdout",
     "output_type": "stream",
     "text": [
      "[0, 0, 0, 84939, 8219, 2720, 813, 539, 336, 235, 164, 121, 99, 87, 55, 51, 42, 37, 35, 28, 23, 24, 25, 26, 22, 21, 20, 13, 27, 15, 21, 18, 6, 5, 5, 6, 9, 5, 4, 3, 7, 3, 6, 5, 4, 2, 4, 5, 4, 1, 1, 1, 4, 3, 1, 0, 1, 3, 3, 1, 1, 0, 2, 1, 0, 1, 0, 1, 0, 0, 0, 1, 0, 1, 1, 0, 0, 0, 0, 1, 0, 0, 1, 1, 0, 1, 0, 0, 0, 1, 0, 0, 0, 0, 1, 0, 1, 0, 0, 0, 1, 0, 1, 1, 0, 0, 0, 1, 0, 0, 0, 1, 0, 0, 0, 0, 0, 0, 0, 0, 0, 1, 0, 1, 0, 1, 0, 1, 0, 0, 1, 1, 0, 0, 0, 0, 0, 1, 0, 0, 0, 0, 0, 0, 0, 0, 0, 1, 0, 0, 0, 0, 0, 0, 0, 0, 0, 0, 0, 0, 0, 0, 0, 0, 0, 0, 0, 2, 0, 0, 0, 0, 1, 0, 0, 0, 1, 0, 0, 0, 0, 0, 0, 0, 0, 0, 0, 0, 0, 0, 0, 0, 0, 0, 0, 0, 0, 0, 0, 0, 0, 0, 0, 0, 0, 1, 0, 0, 0, 0, 0, 0, 0, 0, 0, 0, 0, 0, 0, 0, 0, 0, 0, 0, 0, 0, 0, 0, 0, 0, 0, 0, 0, 0, 0, 0, 0, 0, 0, 0, 0, 0, 0, 0, 0, 0, 0, 0, 0, 0, 0, 0, 0, 0, 0, 0, 0, 0, 0, 0, 0, 0, 0, 0, 0, 0, 0, 0, 0, 0, 0, 0, 0, 0, 0, 0, 0, 0, 0, 0, 0, 0, 0, 0, 0, 0, 0, 0, 0, 0, 0, 0, 0, 0, 0, 0, 0, 0, 0, 0, 0, 0, 0, 0, 0, 0, 0, 0, 0, 0, 0, 0, 0, 0, 0, 0, 0, 0, 0, 0, 0, 0, 0, 0, 0, 0, 0, 0, 0, 0, 0, 0, 0, 0, 0, 0, 0, 0, 0, 0, 0, 0, 0, 0, 0, 0, 0, 0, 0, 0, 0, 0, 0, 1, 0, 0, 0, 0, 0, 0, 0, 0, 0, 0, 0, 0, 0, 0, 0, 0, 0, 0, 0, 0, 0, 0, 0, 0, 0, 0, 0, 0, 0, 0, 0, 0, 0, 0, 0, 0, 0, 0, 0, 0, 0, 0, 0, 0, 0, 0, 0, 0, 0, 0, 0, 0, 0, 0, 0, 0, 0, 0, 0, 0, 0, 0, 0, 0, 0, 0, 0, 0, 0, 0, 0, 0, 0, 0, 0, 0, 0, 0, 0, 0, 0, 0, 0, 0, 0, 0, 0, 0, 0, 0, 0, 0, 0, 0, 0, 0, 0, 0, 0, 0, 0, 0, 0, 0, 0, 0, 0, 0, 0, 0, 0, 0, 0, 0, 0, 0, 0, 0, 0, 0, 0, 0, 0, 0, 0, 0, 0, 0, 0, 0, 0, 0, 0, 0, 0, 0, 0, 0, 0, 0, 0, 0, 0, 0, 0, 0, 0, 0, 0, 0, 0, 0, 0, 0, 0, 0, 0, 0, 0, 0, 0, 0, 0, 0, 0, 0, 0, 0, 0, 0, 0, 0, 0, 0, 0, 0, 0, 0, 0, 0, 0, 0, 0, 0, 0, 0, 0, 0, 0, 0, 0, 0, 0, 0, 0, 0, 0, 0, 0, 0, 0, 0, 0, 0, 0, 0, 0, 0, 0, 0, 0, 0, 0, 0, 0, 0, 0, 0, 0, 0, 0, 0, 0, 0, 0, 0, 0, 0, 0, 0, 0, 0, 0, 0, 0, 0, 0, 0, 0, 0, 0, 0, 0, 0, 0, 0, 0, 0, 0, 0, 0, 0, 0, 0, 0, 0, 0, 0, 0, 0, 0, 0, 0, 0, 0, 0, 0, 0, 0, 0, 0, 0, 0, 0, 0, 0, 0, 0, 0, 0, 0, 0, 0, 0, 0, 0, 0, 0, 0, 0, 0, 0, 0, 0, 0, 0, 0, 0, 0, 0, 0, 0, 0, 0, 0, 0, 0, 0, 0, 0, 0, 0, 0, 0, 0, 0, 0, 0, 0, 0, 0, 0, 0, 0, 0, 0, 0, 0, 0, 0, 0, 0, 0, 0, 0, 0, 0, 0, 0, 0, 0, 0, 0, 0, 0, 0, 0, 0, 0, 0, 0, 0, 0, 0, 0, 0, 0, 0, 0, 0, 0, 0, 0, 0, 0, 0, 0, 0, 0, 0, 0, 0, 0, 0, 0, 0, 0, 0, 0, 0, 0, 0, 0, 0, 0, 0, 0, 0, 0, 0, 1]\n"
     ]
    },
    {
     "data": {
      "image/png": "[encoded data removed]",
      "text/plain": [
       "<Figure size 1080x1080 with 1 Axes>"
      ]
     },
     "metadata": {
      "needs_background": "light"
     },
     "output_type": "display_data"
    }
   ],
   "source": [
    "maxi = max(X)\n",
    "compteur = [0]*(maxi+1)\n",
    "for x in X:\n",
    "    compteur[x] += 1\n",
    "\n",
    "print(compteur)    \n",
    "\n",
    "plt.figure(figsize=(15,15))\n",
    "\n",
    "A, B = [], []\n",
    "for i in range(maxi+1):\n",
    "    if compteur[i]!=0:\n",
    "        A.append(i), B.append(compteur[i])\n",
    "plt.scatter(A, B)\n",
    "plt.yscale(\"log\")\n",
    "plt.show()"
   ]
  },
  {
   "cell_type": "markdown",
   "metadata": {},
   "source": [
    "je code k-means a la main, (on avait vu ca rapidement)"
   ]
  },
  {
   "cell_type": "code",
   "execution_count": 11,
   "metadata": {},
   "outputs": [],
   "source": [
    "def closest(x,avg,d):\n",
    "    D = [d(x,y) for y in avg]\n",
    "    return D.index(min(D))\n",
    "\n",
    "def init_avg(X, k):\n",
    "    '''\n",
    "    on veut des vecteurs de base qui sont differents les uns des autres\n",
    "    on les tire au hasard de facon uniforme\n",
    "    '''\n",
    "    res = []\n",
    "    while len(res) != k:\n",
    "        y = X[np.random.randint(0, len(X))]\n",
    "        if y not in res:\n",
    "            res.append(y)\n",
    "    return res\n",
    "\n",
    "def kmeans(X,k,d, avg=None):\n",
    "    '''\n",
    "    X les donnees\n",
    "    k le nombre d'ensembles de la partition\n",
    "    d une distance\n",
    "    avg si tu veux initialiser a la main les barycentres\n",
    "    \n",
    "    renvoie une liste de meme taille que les donnees\n",
    "    chaque element correspond a la classe de l'indice\n",
    "    ie classes[i] est la classe de X[i]\n",
    "    \n",
    "    et renvoie aussi les centres\n",
    "    '''\n",
    "    if avg==None:\n",
    "        avg = init_avg(X,k)\n",
    "    classes = [closest(x, avg, d) for x in X]\n",
    "    same = False\n",
    "    while not same:\n",
    "        #calcul barycentres\n",
    "        avg = []\n",
    "        for i in range(k):\n",
    "            classe = [X[j] for j in range(len(X)) if classes[j]==i]\n",
    "            avg.append(sum(classe)/len(classe))\n",
    "        #calcul des classes\n",
    "        classes2 = [closest(x, avg, d) for x in X]\n",
    "        same = (classes == classes2)\n",
    "        classes = classes2\n",
    "    return classes, avg"
   ]
  },
  {
   "cell_type": "code",
   "execution_count": 12,
   "metadata": {},
   "outputs": [],
   "source": [
    "def d_euclid(x,y):\n",
    "    return abs(x-y)"
   ]
  },
  {
   "cell_type": "markdown",
   "metadata": {},
   "source": [
    "on affiche les min et max de chaque classe pour visualiser la chose"
   ]
  },
  {
   "cell_type": "code",
   "execution_count": 60,
   "metadata": {},
   "outputs": [],
   "source": [
    "def affiche_ranges(X, C, k):\n",
    "    for i in range(k):\n",
    "        classe = [X[j] for j in range(len(X)) if C[j]==i]\n",
    "        print(min(classe), max(classe))"
   ]
  },
  {
   "cell_type": "markdown",
   "metadata": {},
   "source": [
    "avec 3 classes"
   ]
  },
  {
   "cell_type": "code",
   "execution_count": 14,
   "metadata": {},
   "outputs": [
    {
     "name": "stdout",
     "output_type": "stream",
     "text": [
      "essai 0 ===============================\n",
      "3 15\n",
      "16 111\n",
      "121 744\n",
      "essai 1 ===============================\n",
      "3 15\n",
      "16 111\n",
      "121 744\n",
      "essai 2 ===============================\n",
      "3 15\n",
      "16 111\n",
      "121 744\n",
      "essai 3 ===============================\n",
      "3 15\n",
      "16 111\n",
      "121 744\n",
      "essai 4 ===============================\n",
      "3 15\n",
      "16 111\n",
      "121 744\n"
     ]
    }
   ],
   "source": [
    "for i in range(5):\n",
    "    print(\"essai\", i,\"===============================\")\n",
    "    affiche_ranges(X,kmeans(X,3,d_euclid)[0], 3)"
   ]
  },
  {
   "cell_type": "markdown",
   "metadata": {},
   "source": [
    "avec 4 classes"
   ]
  },
  {
   "cell_type": "code",
   "execution_count": 15,
   "metadata": {},
   "outputs": [
    {
     "name": "stdout",
     "output_type": "stream",
     "text": [
      "essai 0 ===============================\n",
      "3 4\n",
      "20 111\n",
      "5 19\n",
      "121 744\n",
      "essai 1 ===============================\n",
      "3 4\n",
      "5 19\n",
      "20 111\n",
      "121 744\n",
      "essai 2 ===============================\n",
      "3 4\n",
      "121 744\n",
      "5 19\n",
      "20 111\n",
      "essai 3 ===============================\n",
      "3 4\n",
      "20 111\n",
      "5 19\n",
      "121 744\n",
      "essai 4 ===============================\n",
      "3 4\n",
      "5 19\n",
      "20 111\n",
      "121 744\n"
     ]
    }
   ],
   "source": [
    "k = 4\n",
    "\n",
    "for i in range(5):\n",
    "    print(\"essai\", i,\"===============================\")\n",
    "    affiche_ranges(X,kmeans(X,k,d_euclid)[0], k)"
   ]
  },
  {
   "cell_type": "markdown",
   "metadata": {},
   "source": [
    "on a des resultats stables"
   ]
  },
  {
   "cell_type": "markdown",
   "metadata": {},
   "source": [
    "on calcule les wcss\n",
    "\n",
    "soit $P=(P_i)$ une partition associée à des centres $(c_i)$\n",
    "\n",
    "$WCSS = \\sum_{P_i\\in P} \\sum_{x\\in P_i} d(x,c_i)^2$\n",
    "\n",
    "(j avais jamais fait, normalement la formule est bonne)"
   ]
  },
  {
   "cell_type": "code",
   "execution_count": 18,
   "metadata": {},
   "outputs": [
    {
     "data": {
      "image/png": "[encoded data removed]",
      "text/plain": [
       "<Figure size 576x576 with 1 Axes>"
      ]
     },
     "metadata": {
      "needs_background": "light"
     },
     "output_type": "display_data"
    }
   ],
   "source": [
    "WCSS = []\n",
    "\n",
    "for k in range(2,10):\n",
    "    C, avg = kmeans(X, k, d_euclid)\n",
    "    res = 0\n",
    "    for i in range(len(X)):\n",
    "        res += d_euclid(X[i], avg[C[i]])**2\n",
    "    WCSS.append(res)\n",
    "\n",
    "plt.figure(figsize=(8,8))\n",
    "plt.plot(range(2, 10), WCSS)\n",
    "plt.ylabel(\"WCSS\")\n",
    "plt.xlabel(\"k\")\n",
    "plt.show()"
   ]
  },
  {
   "cell_type": "code",
   "execution_count": 82,
   "metadata": {},
   "outputs": [
    {
     "ename": "NameError",
     "evalue": "name 'affiche_ranges' is not defined",
     "output_type": "error",
     "traceback": [
      "\u001b[1;31m---------------------------------------------------------------------------\u001b[0m",
      "\u001b[1;31mNameError\u001b[0m                                 Traceback (most recent call last)",
      "\u001b[1;32m<ipython-input-82-10ef134a2b47>\u001b[0m in \u001b[0;36m<module>\u001b[1;34m\u001b[0m\n\u001b[0;32m      1\u001b[0m \u001b[0mk\u001b[0m\u001b[1;33m=\u001b[0m\u001b[1;36m5\u001b[0m\u001b[1;33m\u001b[0m\u001b[1;33m\u001b[0m\u001b[0m\n\u001b[1;32m----> 2\u001b[1;33m \u001b[0maffiche_ranges\u001b[0m\u001b[1;33m(\u001b[0m\u001b[0mX\u001b[0m\u001b[1;33m,\u001b[0m\u001b[0mkmeans\u001b[0m\u001b[1;33m(\u001b[0m\u001b[0mX\u001b[0m\u001b[1;33m,\u001b[0m\u001b[0mk\u001b[0m\u001b[1;33m,\u001b[0m\u001b[0md_euclid\u001b[0m\u001b[1;33m)\u001b[0m\u001b[1;33m[\u001b[0m\u001b[1;36m0\u001b[0m\u001b[1;33m]\u001b[0m\u001b[1;33m,\u001b[0m \u001b[0mk\u001b[0m\u001b[1;33m)\u001b[0m\u001b[1;33m\u001b[0m\u001b[1;33m\u001b[0m\u001b[0m\n\u001b[0m",
      "\u001b[1;31mNameError\u001b[0m: name 'affiche_ranges' is not defined"
     ]
    }
   ],
   "source": [
    "k=5\n",
    "affiche_ranges(X,kmeans(X,k,d_euclid)[0], k)"
   ]
  },
  {
   "cell_type": "markdown",
   "metadata": {},
   "source": [
    "le hasard les affiche dans l'ordre c est magnifique"
   ]
  },
  {
   "cell_type": "markdown",
   "metadata": {},
   "source": [
    "<a id='glaps'></a>\n",
    "# Glaps s'en va t'en guerre contre le PCA et le Kmeans\n",
    "J'utilise sans honte aucune le tuto de cette [page](https://365datascience.com/tutorials/python-tutorials/pca-k-meanshttps://365datascience.com/tutorials/python-tutorials/pca-k-means)\n",
    "\n",
    "l'idée, une fois que mon groupe social est bel et bien etabli et que l'on voit que c'est un outlier sur la population general du set, j'aimerais voir si ils performent mieux ou pire que les non super-user"
   ]
  },
  {
   "cell_type": "code",
   "execution_count": 40,
   "metadata": {},
   "outputs": [],
   "source": [
    "#reimport des libraires\n",
    "import matplotlib.pyplot as plt\n",
    "import pandas as pd\n",
    "import numpy as np\n",
    "import seaborn as sns\n",
    "sns.set()\n",
    "##\n",
    "from sklearn. preprocessing import StandardScaler\n",
    "from sklearn.cluster import KMeans\n",
    "from sklearn.decomposition import PCA"
   ]
  },
  {
   "cell_type": "code",
   "execution_count": 22,
   "metadata": {},
   "outputs": [
    {
     "name": "stdout",
     "output_type": "stream",
     "text": [
      "<class 'pandas.core.frame.DataFrame'>\n",
      "RangeIndex: 98913 entries, 0 to 98912\n",
      "Data columns (total 17 columns):\n",
      " #   Column               Non-Null Count  Dtype  \n",
      "---  ------               --------------  -----  \n",
      " 0   socialNbFollowers    98913 non-null  int64  \n",
      " 1   socialNbFollows      98913 non-null  int64  \n",
      " 2   socialProductsLiked  98913 non-null  int64  \n",
      " 3   productsListed       98913 non-null  int64  \n",
      " 4   productsSold         98913 non-null  int64  \n",
      " 5   productsPassRate     98913 non-null  float64\n",
      " 6   productsWished       98913 non-null  int64  \n",
      " 7   productsBought       98913 non-null  int64  \n",
      " 8   civilityGenderId     98913 non-null  int64  \n",
      " 9   hasAnyApp            98913 non-null  bool   \n",
      " 10  hasAndroidApp        98913 non-null  bool   \n",
      " 11  hasIosApp            98913 non-null  bool   \n",
      " 12  hasProfilePicture    98913 non-null  bool   \n",
      " 13  daysSinceLastLogin   98913 non-null  int64  \n",
      " 14  seniority            98913 non-null  int64  \n",
      " 15  seniorityAsMonths    98913 non-null  float64\n",
      " 16  seniorityAsYears     98913 non-null  float64\n",
      "dtypes: bool(4), float64(3), int64(10)\n",
      "memory usage: 10.2 MB\n"
     ]
    },
    {
     "data": {
      "text/html": [
       "<div>\n",
       "<style scoped>\n",
       "    .dataframe tbody tr th:only-of-type {\n",
       "        vertical-align: middle;\n",
       "    }\n",
       "\n",
       "    .dataframe tbody tr th {\n",
       "        vertical-align: top;\n",
       "    }\n",
       "\n",
       "    .dataframe thead th {\n",
       "        text-align: right;\n",
       "    }\n",
       "</style>\n",
       "<table border=\"1\" class=\"dataframe\">\n",
       "  <thead>\n",
       "    <tr style=\"text-align: right;\">\n",
       "      <th></th>\n",
       "      <th>socialNbFollowers</th>\n",
       "      <th>socialNbFollows</th>\n",
       "      <th>socialProductsLiked</th>\n",
       "      <th>productsListed</th>\n",
       "      <th>productsSold</th>\n",
       "      <th>productsPassRate</th>\n",
       "      <th>productsWished</th>\n",
       "      <th>productsBought</th>\n",
       "      <th>civilityGenderId</th>\n",
       "      <th>hasAnyApp</th>\n",
       "      <th>hasAndroidApp</th>\n",
       "      <th>hasIosApp</th>\n",
       "      <th>hasProfilePicture</th>\n",
       "      <th>daysSinceLastLogin</th>\n",
       "      <th>seniority</th>\n",
       "      <th>seniorityAsMonths</th>\n",
       "      <th>seniorityAsYears</th>\n",
       "    </tr>\n",
       "  </thead>\n",
       "  <tbody>\n",
       "    <tr>\n",
       "      <th>0</th>\n",
       "      <td>147</td>\n",
       "      <td>10</td>\n",
       "      <td>77</td>\n",
       "      <td>26</td>\n",
       "      <td>174</td>\n",
       "      <td>74.0</td>\n",
       "      <td>104</td>\n",
       "      <td>1</td>\n",
       "      <td>1</td>\n",
       "      <td>True</td>\n",
       "      <td>False</td>\n",
       "      <td>True</td>\n",
       "      <td>True</td>\n",
       "      <td>11</td>\n",
       "      <td>3196</td>\n",
       "      <td>106.53</td>\n",
       "      <td>8.88</td>\n",
       "    </tr>\n",
       "    <tr>\n",
       "      <th>1</th>\n",
       "      <td>167</td>\n",
       "      <td>8</td>\n",
       "      <td>2</td>\n",
       "      <td>19</td>\n",
       "      <td>170</td>\n",
       "      <td>99.0</td>\n",
       "      <td>0</td>\n",
       "      <td>0</td>\n",
       "      <td>2</td>\n",
       "      <td>True</td>\n",
       "      <td>False</td>\n",
       "      <td>True</td>\n",
       "      <td>True</td>\n",
       "      <td>12</td>\n",
       "      <td>3204</td>\n",
       "      <td>106.80</td>\n",
       "      <td>8.90</td>\n",
       "    </tr>\n",
       "    <tr>\n",
       "      <th>2</th>\n",
       "      <td>137</td>\n",
       "      <td>13</td>\n",
       "      <td>60</td>\n",
       "      <td>33</td>\n",
       "      <td>163</td>\n",
       "      <td>94.0</td>\n",
       "      <td>10</td>\n",
       "      <td>3</td>\n",
       "      <td>2</td>\n",
       "      <td>True</td>\n",
       "      <td>False</td>\n",
       "      <td>True</td>\n",
       "      <td>False</td>\n",
       "      <td>11</td>\n",
       "      <td>3203</td>\n",
       "      <td>106.77</td>\n",
       "      <td>8.90</td>\n",
       "    </tr>\n",
       "    <tr>\n",
       "      <th>3</th>\n",
       "      <td>131</td>\n",
       "      <td>10</td>\n",
       "      <td>14</td>\n",
       "      <td>122</td>\n",
       "      <td>152</td>\n",
       "      <td>92.0</td>\n",
       "      <td>7</td>\n",
       "      <td>0</td>\n",
       "      <td>2</td>\n",
       "      <td>True</td>\n",
       "      <td>False</td>\n",
       "      <td>True</td>\n",
       "      <td>False</td>\n",
       "      <td>12</td>\n",
       "      <td>3198</td>\n",
       "      <td>106.60</td>\n",
       "      <td>8.88</td>\n",
       "    </tr>\n",
       "  </tbody>\n",
       "</table>\n",
       "</div>"
      ],
      "text/plain": [
       "   socialNbFollowers  socialNbFollows  socialProductsLiked  productsListed  \\\n",
       "0                147               10                   77              26   \n",
       "1                167                8                    2              19   \n",
       "2                137               13                   60              33   \n",
       "3                131               10                   14             122   \n",
       "\n",
       "   productsSold  productsPassRate  productsWished  productsBought  \\\n",
       "0           174              74.0             104               1   \n",
       "1           170              99.0               0               0   \n",
       "2           163              94.0              10               3   \n",
       "3           152              92.0               7               0   \n",
       "\n",
       "   civilityGenderId  hasAnyApp  hasAndroidApp  hasIosApp  hasProfilePicture  \\\n",
       "0                 1       True          False       True               True   \n",
       "1                 2       True          False       True               True   \n",
       "2                 2       True          False       True              False   \n",
       "3                 2       True          False       True              False   \n",
       "\n",
       "   daysSinceLastLogin  seniority  seniorityAsMonths  seniorityAsYears  \n",
       "0                  11       3196             106.53              8.88  \n",
       "1                  12       3204             106.80              8.90  \n",
       "2                  11       3203             106.77              8.90  \n",
       "3                  12       3198             106.60              8.88  "
      ]
     },
     "execution_count": 22,
     "metadata": {},
     "output_type": "execute_result"
    }
   ],
   "source": [
    "df=pd.read_csv('raw-data.csv')\n",
    "social_test = df.drop([\"gender\", \"identifierHash\", \"type\", \"country\", \"language\", \"civilityTitle\", \"language\", \"countryCode\"], axis=1, errors=\"ignore\")\n",
    "#gender doit etre enlevé car c'est un M/F (string) qui n'est pas computqble\n",
    "social_test.info()\n",
    "social_test.head(4)"
   ]
  },
  {
   "cell_type": "markdown",
   "metadata": {},
   "source": [
    "<div class=\"alert alert-block alert-info\">\n",
    "<b># info importante:</b><br>\n",
    "    le reseau social cree chaque nouvel utilisateur avec 3 followers et 8 follow automatique. Il faut donc filtrer ce qui n'est pas 3/8.\n",
    "</div>"
   ]
  },
  {
   "cell_type": "code",
   "execution_count": 78,
   "metadata": {},
   "outputs": [
    {
     "name": "stdout",
     "output_type": "stream",
     "text": [
      "<class 'pandas.core.frame.DataFrame'>\n",
      "Int64Index: 15595 entries, 0 to 98850\n",
      "Data columns (total 17 columns):\n",
      " #   Column               Non-Null Count  Dtype  \n",
      "---  ------               --------------  -----  \n",
      " 0   socialNbFollowers    15595 non-null  int64  \n",
      " 1   socialNbFollows      15595 non-null  int64  \n",
      " 2   socialProductsLiked  15595 non-null  int64  \n",
      " 3   productsListed       15595 non-null  int64  \n",
      " 4   productsSold         15595 non-null  int64  \n",
      " 5   productsPassRate     15595 non-null  float64\n",
      " 6   productsWished       15595 non-null  int64  \n",
      " 7   productsBought       15595 non-null  int64  \n",
      " 8   civilityGenderId     15595 non-null  int64  \n",
      " 9   hasAnyApp            15595 non-null  bool   \n",
      " 10  hasAndroidApp        15595 non-null  bool   \n",
      " 11  hasIosApp            15595 non-null  bool   \n",
      " 12  hasProfilePicture    15595 non-null  bool   \n",
      " 13  daysSinceLastLogin   15595 non-null  int64  \n",
      " 14  seniority            15595 non-null  int64  \n",
      " 15  seniorityAsMonths    15595 non-null  float64\n",
      " 16  seniorityAsYears     15595 non-null  float64\n",
      "dtypes: bool(4), float64(3), int64(10)\n",
      "memory usage: 1.7 MB\n"
     ]
    },
    {
     "data": {
      "text/html": [
       "<div>\n",
       "<style scoped>\n",
       "    .dataframe tbody tr th:only-of-type {\n",
       "        vertical-align: middle;\n",
       "    }\n",
       "\n",
       "    .dataframe tbody tr th {\n",
       "        vertical-align: top;\n",
       "    }\n",
       "\n",
       "    .dataframe thead th {\n",
       "        text-align: right;\n",
       "    }\n",
       "</style>\n",
       "<table border=\"1\" class=\"dataframe\">\n",
       "  <thead>\n",
       "    <tr style=\"text-align: right;\">\n",
       "      <th></th>\n",
       "      <th>socialNbFollowers</th>\n",
       "      <th>socialNbFollows</th>\n",
       "      <th>socialProductsLiked</th>\n",
       "      <th>productsListed</th>\n",
       "      <th>productsSold</th>\n",
       "      <th>productsPassRate</th>\n",
       "      <th>productsWished</th>\n",
       "      <th>productsBought</th>\n",
       "      <th>civilityGenderId</th>\n",
       "      <th>daysSinceLastLogin</th>\n",
       "      <th>seniority</th>\n",
       "      <th>seniorityAsMonths</th>\n",
       "      <th>seniorityAsYears</th>\n",
       "    </tr>\n",
       "  </thead>\n",
       "  <tbody>\n",
       "    <tr>\n",
       "      <th>count</th>\n",
       "      <td>15595.000000</td>\n",
       "      <td>15595.000000</td>\n",
       "      <td>15595.000000</td>\n",
       "      <td>15595.000000</td>\n",
       "      <td>15595.000000</td>\n",
       "      <td>15595.000000</td>\n",
       "      <td>15595.000000</td>\n",
       "      <td>15595.000000</td>\n",
       "      <td>15595.000000</td>\n",
       "      <td>15595.000000</td>\n",
       "      <td>15595.000000</td>\n",
       "      <td>15595.000000</td>\n",
       "      <td>15595.000000</td>\n",
       "    </tr>\n",
       "    <tr>\n",
       "      <th>mean</th>\n",
       "      <td>5.741712</td>\n",
       "      <td>10.699904</td>\n",
       "      <td>23.220712</td>\n",
       "      <td>0.558384</td>\n",
       "      <td>0.750689</td>\n",
       "      <td>4.992004</td>\n",
       "      <td>8.063931</td>\n",
       "      <td>0.889901</td>\n",
       "      <td>1.798333</td>\n",
       "      <td>452.508176</td>\n",
       "      <td>3044.776980</td>\n",
       "      <td>101.491874</td>\n",
       "      <td>8.457869</td>\n",
       "    </tr>\n",
       "    <tr>\n",
       "      <th>std</th>\n",
       "      <td>9.448515</td>\n",
       "      <td>133.054544</td>\n",
       "      <td>455.166514</td>\n",
       "      <td>5.127749</td>\n",
       "      <td>5.309135</td>\n",
       "      <td>20.561546</td>\n",
       "      <td>62.349054</td>\n",
       "      <td>5.757664</td>\n",
       "      <td>0.435146</td>\n",
       "      <td>274.213238</td>\n",
       "      <td>171.119697</td>\n",
       "      <td>5.704271</td>\n",
       "      <td>0.474457</td>\n",
       "    </tr>\n",
       "    <tr>\n",
       "      <th>min</th>\n",
       "      <td>3.000000</td>\n",
       "      <td>0.000000</td>\n",
       "      <td>0.000000</td>\n",
       "      <td>0.000000</td>\n",
       "      <td>0.000000</td>\n",
       "      <td>0.000000</td>\n",
       "      <td>0.000000</td>\n",
       "      <td>0.000000</td>\n",
       "      <td>1.000000</td>\n",
       "      <td>11.000000</td>\n",
       "      <td>2852.000000</td>\n",
       "      <td>95.070000</td>\n",
       "      <td>7.920000</td>\n",
       "    </tr>\n",
       "    <tr>\n",
       "      <th>25%</th>\n",
       "      <td>4.000000</td>\n",
       "      <td>8.000000</td>\n",
       "      <td>0.000000</td>\n",
       "      <td>0.000000</td>\n",
       "      <td>0.000000</td>\n",
       "      <td>0.000000</td>\n",
       "      <td>0.000000</td>\n",
       "      <td>0.000000</td>\n",
       "      <td>2.000000</td>\n",
       "      <td>164.000000</td>\n",
       "      <td>2857.000000</td>\n",
       "      <td>95.230000</td>\n",
       "      <td>7.940000</td>\n",
       "    </tr>\n",
       "    <tr>\n",
       "      <th>50%</th>\n",
       "      <td>4.000000</td>\n",
       "      <td>8.000000</td>\n",
       "      <td>0.000000</td>\n",
       "      <td>0.000000</td>\n",
       "      <td>0.000000</td>\n",
       "      <td>0.000000</td>\n",
       "      <td>0.000000</td>\n",
       "      <td>0.000000</td>\n",
       "      <td>2.000000</td>\n",
       "      <td>603.000000</td>\n",
       "      <td>3196.000000</td>\n",
       "      <td>106.530000</td>\n",
       "      <td>8.880000</td>\n",
       "    </tr>\n",
       "    <tr>\n",
       "      <th>75%</th>\n",
       "      <td>5.000000</td>\n",
       "      <td>8.000000</td>\n",
       "      <td>3.000000</td>\n",
       "      <td>0.000000</td>\n",
       "      <td>0.000000</td>\n",
       "      <td>0.000000</td>\n",
       "      <td>1.000000</td>\n",
       "      <td>0.000000</td>\n",
       "      <td>2.000000</td>\n",
       "      <td>696.000000</td>\n",
       "      <td>3200.000000</td>\n",
       "      <td>106.670000</td>\n",
       "      <td>8.890000</td>\n",
       "    </tr>\n",
       "    <tr>\n",
       "      <th>max</th>\n",
       "      <td>744.000000</td>\n",
       "      <td>13764.000000</td>\n",
       "      <td>51671.000000</td>\n",
       "      <td>244.000000</td>\n",
       "      <td>174.000000</td>\n",
       "      <td>100.000000</td>\n",
       "      <td>2635.000000</td>\n",
       "      <td>405.000000</td>\n",
       "      <td>3.000000</td>\n",
       "      <td>709.000000</td>\n",
       "      <td>3205.000000</td>\n",
       "      <td>106.830000</td>\n",
       "      <td>8.900000</td>\n",
       "    </tr>\n",
       "  </tbody>\n",
       "</table>\n",
       "</div>"
      ],
      "text/plain": [
       "       socialNbFollowers  socialNbFollows  socialProductsLiked  \\\n",
       "count       15595.000000     15595.000000         15595.000000   \n",
       "mean            5.741712        10.699904            23.220712   \n",
       "std             9.448515       133.054544           455.166514   \n",
       "min             3.000000         0.000000             0.000000   \n",
       "25%             4.000000         8.000000             0.000000   \n",
       "50%             4.000000         8.000000             0.000000   \n",
       "75%             5.000000         8.000000             3.000000   \n",
       "max           744.000000     13764.000000         51671.000000   \n",
       "\n",
       "       productsListed  productsSold  productsPassRate  productsWished  \\\n",
       "count    15595.000000  15595.000000      15595.000000    15595.000000   \n",
       "mean         0.558384      0.750689          4.992004        8.063931   \n",
       "std          5.127749      5.309135         20.561546       62.349054   \n",
       "min          0.000000      0.000000          0.000000        0.000000   \n",
       "25%          0.000000      0.000000          0.000000        0.000000   \n",
       "50%          0.000000      0.000000          0.000000        0.000000   \n",
       "75%          0.000000      0.000000          0.000000        1.000000   \n",
       "max        244.000000    174.000000        100.000000     2635.000000   \n",
       "\n",
       "       productsBought  civilityGenderId  daysSinceLastLogin     seniority  \\\n",
       "count    15595.000000      15595.000000        15595.000000  15595.000000   \n",
       "mean         0.889901          1.798333          452.508176   3044.776980   \n",
       "std          5.757664          0.435146          274.213238    171.119697   \n",
       "min          0.000000          1.000000           11.000000   2852.000000   \n",
       "25%          0.000000          2.000000          164.000000   2857.000000   \n",
       "50%          0.000000          2.000000          603.000000   3196.000000   \n",
       "75%          0.000000          2.000000          696.000000   3200.000000   \n",
       "max        405.000000          3.000000          709.000000   3205.000000   \n",
       "\n",
       "       seniorityAsMonths  seniorityAsYears  \n",
       "count       15595.000000      15595.000000  \n",
       "mean          101.491874          8.457869  \n",
       "std             5.704271          0.474457  \n",
       "min            95.070000          7.920000  \n",
       "25%            95.230000          7.940000  \n",
       "50%           106.530000          8.880000  \n",
       "75%           106.670000          8.890000  \n",
       "max           106.830000          8.900000  "
      ]
     },
     "execution_count": 78,
     "metadata": {},
     "output_type": "execute_result"
    }
   ],
   "source": [
    "social_df = social_test[(social_test['socialNbFollowers'] != 3) | (social_test['socialNbFollows'] != 8)]\n",
    "social_df.info()\n",
    "social_df.describe(3)"
   ]
  },
  {
   "cell_type": "markdown",
   "metadata": {},
   "source": [
    "<a id='filter_error'></a>\n",
    "\n",
    "erreur que je ne comprends pas dans la case suivante. Si je scatter social_test, ca passe sans probleme. Si je scatter social_df ca me dit que x et y doivent etre egaux. \n",
    "Or social_df est la meme df que social_test mais filtré. \n"
   ]
  },
  {
   "cell_type": "code",
   "execution_count": 83,
   "metadata": {},
   "outputs": [
    {
     "ename": "SyntaxError",
     "evalue": "invalid syntax (<ipython-input-83-5195038edcc3>, line 1)",
     "output_type": "error",
     "traceback": [
      "\u001b[1;36m  File \u001b[1;32m\"<ipython-input-83-5195038edcc3>\"\u001b[1;36m, line \u001b[1;32m1\u001b[0m\n\u001b[1;33m    <a id='filter_error'></a>\u001b[0m\n\u001b[1;37m    ^\u001b[0m\n\u001b[1;31mSyntaxError\u001b[0m\u001b[1;31m:\u001b[0m invalid syntax\n"
     ]
    }
   ],
   "source": [
    "\n",
    "plt.figure(figsize = (6,6))\n",
    "plt.scatter(social_df.iloc[:,0], social_test.iloc[:,1])\n",
    "plt.xlabel(\"nombre de followers\")\n",
    "plt.ylabel(\"nombre de follow\")\n",
    "plt.title(\"visualisation\")"
   ]
  },
  {
   "cell_type": "code",
   "execution_count": 26,
   "metadata": {},
   "outputs": [],
   "source": [
    "scaler = StandardScaler()\n",
    "segmentation_std = scaler.fit_transform(social_test)"
   ]
  },
  {
   "cell_type": "markdown",
   "metadata": {},
   "source": [
    "# PCA"
   ]
  },
  {
   "cell_type": "code",
   "execution_count": 28,
   "metadata": {},
   "outputs": [
    {
     "data": {
      "text/plain": [
       "PCA()"
      ]
     },
     "execution_count": 28,
     "metadata": {},
     "output_type": "execute_result"
    }
   ],
   "source": [
    "pca = PCA()\n",
    "pca.fit(segmentation_std)"
   ]
  },
  {
   "cell_type": "code",
   "execution_count": 29,
   "metadata": {},
   "outputs": [
    {
     "data": {
      "text/plain": [
       "array([1.95489391e-01, 1.76531529e-01, 1.20871369e-01, 9.99331846e-02,\n",
       "       7.52186099e-02, 6.37193854e-02, 5.89878140e-02, 5.37190991e-02,\n",
       "       4.51463713e-02, 3.56253475e-02, 3.21076732e-02, 2.37303980e-02,\n",
       "       1.19326947e-02, 6.74566562e-03, 2.39932725e-04, 1.52795475e-06,\n",
       "       6.30605713e-09])"
      ]
     },
     "execution_count": 29,
     "metadata": {},
     "output_type": "execute_result"
    }
   ],
   "source": [
    "pca.explained_variance_ratio_"
   ]
  },
  {
   "cell_type": "code",
   "execution_count": 41,
   "metadata": {},
   "outputs": [
    {
     "data": {
      "text/plain": [
       "Text(0, 0.5, 'cumulative explained variance')"
      ]
     },
     "execution_count": 41,
     "metadata": {},
     "output_type": "execute_result"
    },
    {
     "data": {
      "image/png": "[encoded data removed]",
      "text/plain": [
       "<Figure size 576x576 with 1 Axes>"
      ]
     },
     "metadata": {},
     "output_type": "display_data"
    }
   ],
   "source": [
    "plt.figure(figsize = (8,8))\n",
    "plt.plot(range(1,18), pca.explained_variance_ratio_.cumsum(), marker = 'o', linestyle = '--')\n",
    "plt.title('explained variance')\n",
    "plt.xlabel('number of compontents')\n",
    "plt.ylabel('cumulative explained variance')"
   ]
  },
  {
   "cell_type": "code",
   "execution_count": 42,
   "metadata": {},
   "outputs": [
    {
     "data": {
      "text/plain": [
       "PCA(n_components=7)"
      ]
     },
     "execution_count": 42,
     "metadata": {},
     "output_type": "execute_result"
    }
   ],
   "source": [
    "pca = PCA(n_components = 7)\n",
    "pca.fit(segmentation_std)"
   ]
  },
  {
   "cell_type": "code",
   "execution_count": 44,
   "metadata": {},
   "outputs": [],
   "source": [
    "pca.transform(segmentation_std)\n",
    "scores_pca = pca.transform(segmentation_std)"
   ]
  },
  {
   "cell_type": "markdown",
   "metadata": {},
   "source": [
    "# k-means"
   ]
  },
  {
   "cell_type": "code",
   "execution_count": 46,
   "metadata": {},
   "outputs": [],
   "source": [
    "wcss = []\n",
    "for i in range(1,21):\n",
    "    kmeans_pca = nbkmeans = KMeans(n_clusters = i, init = 'k-means++', random_state = 42)\n",
    "    kmeans_pca.fit(scores_pca)\n",
    "    wcss.append(kmeans_pca.inertia_)"
   ]
  },
  {
   "cell_type": "code",
   "execution_count": 47,
   "metadata": {},
   "outputs": [
    {
     "data": {
      "text/plain": [
       "Text(0, 0.5, 'wcss')"
      ]
     },
     "execution_count": 47,
     "metadata": {},
     "output_type": "execute_result"
    },
    {
     "data": {
      "image/png": "[encoded data removed]",
      "text/plain": [
       "<Figure size 576x576 with 1 Axes>"
      ]
     },
     "metadata": {},
     "output_type": "display_data"
    }
   ],
   "source": [
    "plt.figure(figsize = (8,8))\n",
    "plt.plot(range(1,21), wcss, marker = 'o', linestyle = '--')\n",
    "plt.title('kmeans with pca')\n",
    "plt.xlabel('number of clusters')\n",
    "plt.ylabel('wcss')"
   ]
  },
  {
   "cell_type": "markdown",
   "metadata": {},
   "source": [
    "<a id='questions_clusters'></a>\n",
    "# Questions: \n",
    "Il faudrait, selon la technique du coude, prendre donc entre 5 et 7 cluster pour wcss. Or, si tu vas regarder le resultat final, On voit bien que y a un enorme groupe qui blob et un groupe d'outliers.\n",
    "\n",
    "=> dois-je considerer ce groupe d'outliers (qui sont en fait les super-users) comme un groupe une anaomalie ou comme autre chose? \n",
    "\n",
    "=> more questions"
   ]
  },
  {
   "cell_type": "code",
   "execution_count": 60,
   "metadata": {},
   "outputs": [
    {
     "data": {
      "text/plain": [
       "KMeans(n_clusters=20, random_state=42)"
      ]
     },
     "execution_count": 60,
     "metadata": {},
     "output_type": "execute_result"
    }
   ],
   "source": [
    "keans_pca = KMeans(n_clusters = 6, init = 'k-means++', random_state = 42)\n",
    "kmeans_pca.fit(scores_pca)"
   ]
  },
  {
   "cell_type": "code",
   "execution_count": 61,
   "metadata": {},
   "outputs": [
    {
     "data": {
      "text/html": [
       "<div>\n",
       "<style scoped>\n",
       "    .dataframe tbody tr th:only-of-type {\n",
       "        vertical-align: middle;\n",
       "    }\n",
       "\n",
       "    .dataframe tbody tr th {\n",
       "        vertical-align: top;\n",
       "    }\n",
       "\n",
       "    .dataframe thead th {\n",
       "        text-align: right;\n",
       "    }\n",
       "</style>\n",
       "<table border=\"1\" class=\"dataframe\">\n",
       "  <thead>\n",
       "    <tr style=\"text-align: right;\">\n",
       "      <th></th>\n",
       "      <th>socialNbFollowers</th>\n",
       "      <th>socialNbFollows</th>\n",
       "      <th>socialProductsLiked</th>\n",
       "      <th>productsListed</th>\n",
       "      <th>productsSold</th>\n",
       "      <th>productsPassRate</th>\n",
       "      <th>productsWished</th>\n",
       "      <th>productsBought</th>\n",
       "      <th>civilityGenderId</th>\n",
       "      <th>hasAnyApp</th>\n",
       "      <th>...</th>\n",
       "      <th>seniorityAsMonths</th>\n",
       "      <th>seniorityAsYears</th>\n",
       "      <th>0</th>\n",
       "      <th>1</th>\n",
       "      <th>2</th>\n",
       "      <th>3</th>\n",
       "      <th>component 1</th>\n",
       "      <th>component 2</th>\n",
       "      <th>component 3</th>\n",
       "      <th>segment kmeans pca</th>\n",
       "    </tr>\n",
       "  </thead>\n",
       "  <tbody>\n",
       "    <tr>\n",
       "      <th>0</th>\n",
       "      <td>147</td>\n",
       "      <td>10</td>\n",
       "      <td>77</td>\n",
       "      <td>26</td>\n",
       "      <td>174</td>\n",
       "      <td>74.0</td>\n",
       "      <td>104</td>\n",
       "      <td>1</td>\n",
       "      <td>1</td>\n",
       "      <td>True</td>\n",
       "      <td>...</td>\n",
       "      <td>106.53</td>\n",
       "      <td>8.88</td>\n",
       "      <td>56.912449</td>\n",
       "      <td>2.088522</td>\n",
       "      <td>-0.709152</td>\n",
       "      <td>-37.223437</td>\n",
       "      <td>-18.226790</td>\n",
       "      <td>4.445186</td>\n",
       "      <td>10.780032</td>\n",
       "      <td>3</td>\n",
       "    </tr>\n",
       "    <tr>\n",
       "      <th>1</th>\n",
       "      <td>167</td>\n",
       "      <td>8</td>\n",
       "      <td>2</td>\n",
       "      <td>19</td>\n",
       "      <td>170</td>\n",
       "      <td>99.0</td>\n",
       "      <td>0</td>\n",
       "      <td>0</td>\n",
       "      <td>2</td>\n",
       "      <td>True</td>\n",
       "      <td>...</td>\n",
       "      <td>106.80</td>\n",
       "      <td>8.90</td>\n",
       "      <td>57.364424</td>\n",
       "      <td>2.212857</td>\n",
       "      <td>-0.366915</td>\n",
       "      <td>-37.083177</td>\n",
       "      <td>-20.119454</td>\n",
       "      <td>3.280905</td>\n",
       "      <td>7.509740</td>\n",
       "      <td>3</td>\n",
       "    </tr>\n",
       "    <tr>\n",
       "      <th>2</th>\n",
       "      <td>137</td>\n",
       "      <td>13</td>\n",
       "      <td>60</td>\n",
       "      <td>33</td>\n",
       "      <td>163</td>\n",
       "      <td>94.0</td>\n",
       "      <td>10</td>\n",
       "      <td>3</td>\n",
       "      <td>2</td>\n",
       "      <td>True</td>\n",
       "      <td>...</td>\n",
       "      <td>106.77</td>\n",
       "      <td>8.90</td>\n",
       "      <td>55.985050</td>\n",
       "      <td>2.113298</td>\n",
       "      <td>-2.971619</td>\n",
       "      <td>-39.499236</td>\n",
       "      <td>-17.871660</td>\n",
       "      <td>3.079747</td>\n",
       "      <td>6.869283</td>\n",
       "      <td>3</td>\n",
       "    </tr>\n",
       "    <tr>\n",
       "      <th>3</th>\n",
       "      <td>131</td>\n",
       "      <td>10</td>\n",
       "      <td>14</td>\n",
       "      <td>122</td>\n",
       "      <td>152</td>\n",
       "      <td>92.0</td>\n",
       "      <td>7</td>\n",
       "      <td>0</td>\n",
       "      <td>2</td>\n",
       "      <td>True</td>\n",
       "      <td>...</td>\n",
       "      <td>106.60</td>\n",
       "      <td>8.88</td>\n",
       "      <td>64.651276</td>\n",
       "      <td>2.019464</td>\n",
       "      <td>-5.721538</td>\n",
       "      <td>-56.062428</td>\n",
       "      <td>-25.328400</td>\n",
       "      <td>5.068364</td>\n",
       "      <td>11.487650</td>\n",
       "      <td>3</td>\n",
       "    </tr>\n",
       "    <tr>\n",
       "      <th>4</th>\n",
       "      <td>167</td>\n",
       "      <td>8</td>\n",
       "      <td>0</td>\n",
       "      <td>25</td>\n",
       "      <td>125</td>\n",
       "      <td>100.0</td>\n",
       "      <td>0</td>\n",
       "      <td>0</td>\n",
       "      <td>2</td>\n",
       "      <td>False</td>\n",
       "      <td>...</td>\n",
       "      <td>95.13</td>\n",
       "      <td>7.93</td>\n",
       "      <td>49.586854</td>\n",
       "      <td>-1.458462</td>\n",
       "      <td>2.701771</td>\n",
       "      <td>-31.592088</td>\n",
       "      <td>-16.467070</td>\n",
       "      <td>3.017196</td>\n",
       "      <td>5.520492</td>\n",
       "      <td>3</td>\n",
       "    </tr>\n",
       "  </tbody>\n",
       "</table>\n",
       "<p>5 rows × 25 columns</p>\n",
       "</div>"
      ],
      "text/plain": [
       "   socialNbFollowers  socialNbFollows  socialProductsLiked  productsListed  \\\n",
       "0                147               10                   77              26   \n",
       "1                167                8                    2              19   \n",
       "2                137               13                   60              33   \n",
       "3                131               10                   14             122   \n",
       "4                167                8                    0              25   \n",
       "\n",
       "   productsSold  productsPassRate  productsWished  productsBought  \\\n",
       "0           174              74.0             104               1   \n",
       "1           170              99.0               0               0   \n",
       "2           163              94.0              10               3   \n",
       "3           152              92.0               7               0   \n",
       "4           125             100.0               0               0   \n",
       "\n",
       "   civilityGenderId  hasAnyApp  ...  seniorityAsMonths  seniorityAsYears  \\\n",
       "0                 1       True  ...             106.53              8.88   \n",
       "1                 2       True  ...             106.80              8.90   \n",
       "2                 2       True  ...             106.77              8.90   \n",
       "3                 2       True  ...             106.60              8.88   \n",
       "4                 2      False  ...              95.13              7.93   \n",
       "\n",
       "           0         1         2          3  component 1  component 2  \\\n",
       "0  56.912449  2.088522 -0.709152 -37.223437   -18.226790     4.445186   \n",
       "1  57.364424  2.212857 -0.366915 -37.083177   -20.119454     3.280905   \n",
       "2  55.985050  2.113298 -2.971619 -39.499236   -17.871660     3.079747   \n",
       "3  64.651276  2.019464 -5.721538 -56.062428   -25.328400     5.068364   \n",
       "4  49.586854 -1.458462  2.701771 -31.592088   -16.467070     3.017196   \n",
       "\n",
       "   component 3  segment kmeans pca  \n",
       "0    10.780032                   3  \n",
       "1     7.509740                   3  \n",
       "2     6.869283                   3  \n",
       "3    11.487650                   3  \n",
       "4     5.520492                   3  \n",
       "\n",
       "[5 rows x 25 columns]"
      ]
     },
     "execution_count": 61,
     "metadata": {},
     "output_type": "execute_result"
    }
   ],
   "source": [
    "df_seg_pca_kmeans = pd.concat([social_test.reset_index(drop = True), pd.DataFrame(scores_pca)], axis = 1)\n",
    "df_seg_pca_kmeans.columns.values[-3: ] = ['component 1', 'component 2', 'component 3']\n",
    "df_seg_pca_kmeans['segment kmeans pca'] = kmeans_pca.labels_\n",
    "df_seg_pca_kmeans.head(5)"
   ]
  },
  {
   "cell_type": "code",
   "execution_count": 66,
   "metadata": {},
   "outputs": [],
   "source": [
    "df_seg_pca_kmeans['Segment'] = df_seg_pca_kmeans['segment kmeans pca'].map({0:'first',\n",
    "                                           1: 'Second',\n",
    "                                           2: 'Third',\n",
    "                                           3: 'fourth',\n",
    "                                           4: 'Fith',\n",
    "                                                                            5: 'Sith'\n",
    "                                                                           })"
   ]
  },
  {
   "cell_type": "code",
   "execution_count": 71,
   "metadata": {},
   "outputs": [
    {
     "name": "stderr",
     "output_type": "stream",
     "text": [
      "C:\\Users\\sam\\anaconda3\\lib\\site-packages\\seaborn\\_decorators.py:43: FutureWarning: Pass the following variables as keyword args: x, y. From version 0.12, the only valid positional argument will be `data`, and passing other arguments without an explicit keyword will result in an error or misinterpretation.\n",
      "  FutureWarning\n"
     ]
    },
    {
     "data": {
      "image/png": "[encoded data removed]",
      "text/plain": [
       "<Figure size 864x864 with 1 Axes>"
      ]
     },
     "metadata": {},
     "output_type": "display_data"
    }
   ],
   "source": [
    "#plotting the segment\n",
    "x_axis = df_seg_pca_kmeans['component 2']\n",
    "y_axis = df_seg_pca_kmeans['component 1']\n",
    "plt.figure(figsize =(12, 12))\n",
    "sns.scatterplot(x_axis, y_axis, hue = df_seg_pca_kmeans['Segment'], palette = ['g', 'c', 'y', 'r', 'b', 'm'])\n",
    "plt.title('cluster by pca')\n",
    "plt.show()"
   ]
  }
 ],
 "metadata": {
  "kernelspec": {
   "display_name": "Python 3",
   "language": "python",
   "name": "python3"
  },
  "language_info": {
   "codemirror_mode": {
    "name": "ipython",
    "version": 3
   },
   "file_extension": ".py",
   "mimetype": "text/x-python",
   "name": "python",
   "nbconvert_exporter": "python",
   "pygments_lexer": "ipython3",
   "version": "3.7.6"
  }
 },
 "nbformat": 4,
 "nbformat_minor": 4
}
